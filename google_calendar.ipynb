{
 "cells": [
  {
   "cell_type": "code",
   "execution_count": 13,
   "metadata": {},
   "outputs": [],
   "source": [
    "import datetime\n",
    "import os.path\n",
    "\n",
    "from google.auth.transport.requests import Request\n",
    "from google.oauth2.credentials import Credentials\n",
    "from google_auth_oauthlib.flow import InstalledAppFlow\n",
    "from googleapiclient.discovery import build\n",
    "from googleapiclient.errors import HttpError"
   ]
  },
  {
   "cell_type": "code",
   "execution_count": 42,
   "metadata": {},
   "outputs": [],
   "source": [
    "SCOPES = ['https://www.googleapis.com/auth/calendar']"
   ]
  },
  {
   "cell_type": "code",
   "execution_count": 35,
   "metadata": {},
   "outputs": [],
   "source": [
    "def get_events_from_calendar():\n",
    "    creds = None\n",
    "    if os.path.exists('token.json'):\n",
    "        creds = Credentials.from_authorized_user_file('token.json')\n",
    "\n",
    "    if not creds or not creds.valid:\n",
    "        if creds and creds.expired and creds.refresh_token:\n",
    "            creds.refresh(Request())\n",
    "        else:\n",
    "            flow = InstalledAppFlow.from_client_secrets_file('credentials.json', SCOPES)\n",
    "            creds = flow.run_local_server(port=0)\n",
    "\n",
    "        with open('token.json', 'w') as token:\n",
    "            token.write(creds.to_json())\n",
    "\n",
    "    try:\n",
    "        service = build('calendar', 'v3', credentials=creds)\n",
    "        now = datetime.datetime.now().isoformat() + 'Z'\n",
    "        events_result = service.events().list(calendarId='primary', timeMin=now, maxResults=10, singleEvents=True, orderBy='startTime').execute()\n",
    "        events = events_result.get('items', [])\n",
    "\n",
    "        if not events:\n",
    "            print('No upcoming events found.')\n",
    "\n",
    "        for event in events:\n",
    "            start = event['start'].get('dateTime', event['start'].get('date'))\n",
    "            print(f'{start} {event[\"summary\"]}')\n",
    "    except HttpError as e:\n",
    "        print(f'An error occurred: {e}')"
   ]
  },
  {
   "cell_type": "code",
   "execution_count": 36,
   "metadata": {},
   "outputs": [
    {
     "name": "stdout",
     "output_type": "stream",
     "text": [
      "2025-02-22T17:00:00-05:00 Workout\n",
      "2025-02-22T19:00:00-05:00 Intro to Gen AI\n",
      "2025-02-22T19:00:00-05:00 Business growth\n",
      "2025-02-23T17:00:00-05:00 Workout\n",
      "2025-02-23T19:00:00-05:00 Business growth\n",
      "2025-02-24T17:00:00-05:00 Workout\n",
      "2025-02-24T19:00:00-05:00 Business growth\n",
      "2025-02-24T21:00:00-05:00 Akash call\n",
      "2025-02-25T17:00:00-05:00 Workout\n",
      "2025-02-25T19:00:00-05:00 Business growth\n"
     ]
    }
   ],
   "source": [
    "get_events_from_calendar()"
   ]
  },
  {
   "cell_type": "code",
   "execution_count": 48,
   "metadata": {},
   "outputs": [],
   "source": [
    "def add_events_to_calendar():\n",
    "    creds = None\n",
    "    if os.path.exists('token.json'):\n",
    "        creds = Credentials.from_authorized_user_file('token.json')\n",
    "\n",
    "    if not creds or not creds.valid:\n",
    "        if creds and creds.expired and creds.refresh_token:\n",
    "            creds.refresh(Request())\n",
    "        else:\n",
    "            flow = InstalledAppFlow.from_client_secrets_file('credentials.json', SCOPES)\n",
    "            creds = flow.run_local_server(port=0)\n",
    "\n",
    "        with open('token.json', 'w') as token:\n",
    "            token.write(creds.to_json())\n",
    "\n",
    "    try:\n",
    "        service = build('calendar', 'v3', credentials=creds)\n",
    "        \n",
    "        event = {\n",
    "            \"summary\": \"demo event\",\n",
    "            \"location\": \"online\",\n",
    "            \"description\": \"demo event\",\n",
    "            \"colorId\" : 1,\n",
    "            \"start\" : {\n",
    "                \"dateTime\": \"2025-02-22T16:00:00\",\n",
    "                \"timeZone\": \"EST\"\n",
    "            },\n",
    "            \"end\" : {\n",
    "                \"dateTime\": \"2025-02-22T17:00:00\",\n",
    "                \"timeZone\": \"EST\"\n",
    "            },\n",
    "            \"recurrence\": [\n",
    "                \"RRULE:FREQ=DAILY;COUNT=1\"\n",
    "            ],\n",
    "            \"attendees\": [\n",
    "                {\"email\": \"sathwik238@gmail.com\"}\n",
    "            ]\n",
    "        }\n",
    "\n",
    "        event = service.events().insert(calendarId='primary', body=event).execute()\n",
    "        print(f'Event created: {event.get(\"htmlLink\")}')\n",
    "\n",
    "\n",
    "    except HttpError as e:\n",
    "        print(f'An error occurred: {e}')"
   ]
  },
  {
   "cell_type": "code",
   "execution_count": 49,
   "metadata": {},
   "outputs": [
    {
     "name": "stdout",
     "output_type": "stream",
     "text": [
      "Event created: https://www.google.com/calendar/event?eid=dW9tMXJmMTVpaXJ2NDBzMjAxbWt2YmNobHNfMjAyNTAyMjJUMjEwMDAwWiBzYXRod2lrMjM4QG0\n"
     ]
    }
   ],
   "source": [
    "add_events_to_calendar()"
   ]
  },
  {
   "cell_type": "code",
   "execution_count": null,
   "metadata": {},
   "outputs": [],
   "source": []
  }
 ],
 "metadata": {
  "kernelspec": {
   "display_name": "Python 3",
   "language": "python",
   "name": "python3"
  },
  "language_info": {
   "codemirror_mode": {
    "name": "ipython",
    "version": 3
   },
   "file_extension": ".py",
   "mimetype": "text/x-python",
   "name": "python",
   "nbconvert_exporter": "python",
   "pygments_lexer": "ipython3",
   "version": "3.10.0"
  }
 },
 "nbformat": 4,
 "nbformat_minor": 2
}
