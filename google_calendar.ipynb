{
 "cells": [
  {
   "cell_type": "code",
   "execution_count": 2,
   "metadata": {},
   "outputs": [],
   "source": [
    "import datetime\n",
    "import os.path\n",
    "\n",
    "from google.auth.transport.requests import Request\n",
    "from google.oauth2.credentials import Credentials\n",
    "from google_auth_oauthlib.flow import InstalledAppFlow\n",
    "from googleapiclient.discovery import build\n",
    "from googleapiclient.errors import HttpError"
   ]
  },
  {
   "cell_type": "code",
   "execution_count": 3,
   "metadata": {},
   "outputs": [],
   "source": [
    "SCOPES = ['https://www.googleapis.com/auth/calendar']"
   ]
  },
  {
   "cell_type": "code",
   "execution_count": 4,
   "metadata": {},
   "outputs": [],
   "source": [
    "def get_events_from_calendar():\n",
    "    creds = None\n",
    "    if os.path.exists('token.json'):\n",
    "        creds = Credentials.from_authorized_user_file('token.json')\n",
    "\n",
    "    if not creds or not creds.valid:\n",
    "        if creds and creds.expired and creds.refresh_token:\n",
    "            creds.refresh(Request())\n",
    "        else:\n",
    "            flow = InstalledAppFlow.from_client_secrets_file('credentials.json', SCOPES)\n",
    "            creds = flow.run_local_server(port=0)\n",
    "\n",
    "        with open('token.json', 'w') as token:\n",
    "            token.write(creds.to_json())\n",
    "\n",
    "    try:\n",
    "        service = build('calendar', 'v3', credentials=creds)\n",
    "        now = datetime.datetime.now().isoformat() + 'Z'\n",
    "        events_result = service.events().list(calendarId='primary', timeMin=now, maxResults=10, singleEvents=True, orderBy='startTime').execute()\n",
    "        events = events_result.get('items', [])\n",
    "\n",
    "        if not events:\n",
    "            print('No upcoming events found.')\n",
    "\n",
    "        for event in events:\n",
    "            start = event['start'].get('dateTime', event['start'].get('date'))\n",
    "            print(f'{start} {event[\"summary\"]}')\n",
    "    except HttpError as e:\n",
    "        print(f'An error occurred: {e}')"
   ]
  },
  {
   "cell_type": "code",
   "execution_count": 6,
   "metadata": {},
   "outputs": [
    {
     "name": "stdout",
     "output_type": "stream",
     "text": [
      "2025-03-07T14:30:00-05:00 Interview amazon sailesh anna\n",
      "2025-03-07T17:00:00-05:00 Workout\n",
      "2025-03-07T19:00:00-05:00 Business growth\n",
      "2025-03-07T20:00:00-05:00 Libertty Prep\n",
      "2025-03-07T20:00:00-05:00 FNH\n",
      "2025-03-08T09:00:00-05:00 Apply jobs\n",
      "2025-03-08T13:00:00-05:00 Mlops\n",
      "2025-03-08T17:00:00-05:00 Workout\n",
      "2025-03-08T19:00:00-05:00 Business growth\n",
      "2025-03-08T20:00:00-05:00 Libertty Prep\n"
     ]
    }
   ],
   "source": [
    "get_events_from_calendar()"
   ]
  },
  {
   "cell_type": "code",
   "execution_count": 7,
   "metadata": {},
   "outputs": [],
   "source": [
    "def add_events_to_calendar(summary = 'Demo Event', location = 'Online', description = 'Demo Event', start_time = '2025-02-22T16:00:00', end_time = '2025-02-22T17:00:00', color_id = 1, attendees = [{\"email\": \"sathwik238@gmail.com\"}]):\n",
    "    creds = None\n",
    "    if os.path.exists('token.json'):\n",
    "        creds = Credentials.from_authorized_user_file('token.json')\n",
    "\n",
    "    if not creds or not creds.valid:\n",
    "        if creds and creds.expired and creds.refresh_token:\n",
    "            creds.refresh(Request())\n",
    "        else:\n",
    "            flow = InstalledAppFlow.from_client_secrets_file('credentials.json', SCOPES)\n",
    "            creds = flow.run_local_server(port=0)\n",
    "\n",
    "        with open('token.json', 'w') as token:\n",
    "            token.write(creds.to_json())\n",
    "\n",
    "    try:\n",
    "        service = build('calendar', 'v3', credentials=creds)\n",
    "        \n",
    "        event = {\n",
    "            \"summary\": summary,\n",
    "            \"location\": location,\n",
    "            \"description\": description,\n",
    "            \"colorId\" : color_id,\n",
    "            \"start\" : {\n",
    "                \"dateTime\": start_time,\n",
    "                \"timeZone\": \"EST\"\n",
    "            },\n",
    "            \"end\" : {\n",
    "                \"dateTime\": end_time,\n",
    "                \"timeZone\": \"EST\"\n",
    "            },\n",
    "            \"recurrence\": [\n",
    "                \"RRULE:FREQ=DAILY;COUNT=1\"\n",
    "            ],\n",
    "            \"attendees\": attendees\n",
    "        }\n",
    "\n",
    "        event = service.events().insert(calendarId='primary', body=event).execute()\n",
    "        print(f'Event created: {event.get(\"htmlLink\")}')\n",
    "\n",
    "\n",
    "    except HttpError as e:\n",
    "        print(f'An error occurred: {e}')"
   ]
  },
  {
   "cell_type": "code",
   "execution_count": 52,
   "metadata": {},
   "outputs": [
    {
     "name": "stdout",
     "output_type": "stream",
     "text": [
      "Event created: https://www.google.com/calendar/event?eid=djMwcWc3Y2E1amYzc25uOW5ia21rODR0ZWdfMjAyNTAyMjNUMDIwMDAwWiBzYXRod2lrMjM4QG0\n"
     ]
    }
   ],
   "source": [
    "add_events_to_calendar(summary = 'Demo Event 1', location = 'Online', description = 'Demo Event', start_time = '2025-02-22T21:00:00', end_time = '2025-02-22T22:00:00', color_id = 1, attendees = [{\"email\": \"sathwik238@gmail.com\"}])\n"
   ]
  },
  {
   "cell_type": "code",
   "execution_count": null,
   "metadata": {},
   "outputs": [],
   "source": []
  }
 ],
 "metadata": {
  "kernelspec": {
   "display_name": "Python 3",
   "language": "python",
   "name": "python3"
  },
  "language_info": {
   "codemirror_mode": {
    "name": "ipython",
    "version": 3
   },
   "file_extension": ".py",
   "mimetype": "text/x-python",
   "name": "python",
   "nbconvert_exporter": "python",
   "pygments_lexer": "ipython3",
   "version": "3.10.0"
  }
 },
 "nbformat": 4,
 "nbformat_minor": 2
}
